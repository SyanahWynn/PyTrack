{
 "metadata": {
  "language_info": {
   "codemirror_mode": {
    "name": "ipython",
    "version": 3
   },
   "file_extension": ".py",
   "mimetype": "text/x-python",
   "name": "python",
   "nbconvert_exporter": "python",
   "pygments_lexer": "ipython3",
   "version": "3.6.8"
  },
  "orig_nbformat": 4,
  "kernelspec": {
   "name": "python3",
   "display_name": "Python 3.6.8 64-bit ('3.6.8': pyenv)"
  },
  "interpreter": {
   "hash": "9789cbeb2318af48dcddd1580358646604a4fcad901c01d62d526b58f32318a2"
  }
 },
 "nbformat": 4,
 "nbformat_minor": 2,
 "cells": [
  {
   "cell_type": "markdown",
   "source": [
    "# Using PyTrack in Standaolone Design\n",
    "\n",
    "If you do not want to analyse an Experiment as a whole, and want to analyse\n",
    "individual eyetracking data files, you can use this tutorial to get started."
   ],
   "metadata": {}
  },
  {
   "cell_type": "markdown",
   "source": [
    "## Convert eyetracker files to PyTrack compatible format\n",
    "\n",
    "    If you do not have data from Tobii, SMI or EyeLink eyetrackers, check out the\n",
    "    notebook getting_started_OwnData.ipynb\n",
    "\n",
    "Check the README.txt in the PyTrack_Sample_Data folder for information such as sampling frequency, and start and\n",
    "stop keywords for the provided EyeLink, Tobii and SMI files."
   ],
   "metadata": {}
  },
  {
   "cell_type": "code",
   "execution_count": null,
   "source": [
    "from PyTrack.Stimulus import Stimulus\n",
    "from PyTrack.formatBridge import generateCompatibleFormat\n",
    "import pandas as pd\n",
    "import numpy as np\n",
    "import os"
   ],
   "outputs": [],
   "metadata": {}
  },
  {
   "cell_type": "markdown",
   "source": [
    "## SMI"
   ],
   "metadata": {}
  },
  {
   "cell_type": "code",
   "execution_count": null,
   "source": [
    "# function to convert data to generate csv file for data file recorded using \n",
    "# EyeLink on both eyes and the stimulus name specified in the message section\n",
    "if not os.path.isfile(os.path.abspath(\"../PyTrack_Sample_Data/SMI/smi_eyetracker_freeviewing.csv\")):\n",
    "    generateCompatibleFormat(exp_path=os.path.abspath(\"../PyTrack_Sample_Data/SMI/smi_eyetracker_freeviewing.txt\"),\n",
    "                            device=\"smi\",\n",
    "                            stim_list_mode=\"NA\",\n",
    "                            start=\"12\",\n",
    "                            stop=\"99\",\n",
    "                            eye=\"B\")\n",
    "\n",
    "df = pd.read_csv(\"../PyTrack/PyTrack_Sample_Data/SMI/smi_eyetracker_freeviewing.csv\")\n",
    "print('Max gaze (height): {:.2f} - Left eye, {:.2f} - Right eye'.format(\n",
    "    df['GazeLefty'].max(), df['GazeRighty'].max()))\n",
    "print('Max gaze (width): {:.2f} - Left eye, {:.2f} - Right eye'.format(\n",
    "    df['GazeLeftx'].max(), df['GazeRightx'].max()))\n",
    "    \n",
    "# Dictionary containing details of recording. Please change the values \n",
    "# according to your experiment. If no AOI is desired, set aoi value to \n",
    "# [0, 0, Display_width, Display_height]\n",
    "sensor_dict = {\n",
    "    \"EyeTracker\":\n",
    "    {\n",
    "        \"Sampling_Freq\": 500,\n",
    "        \"Display_width\": 1280,\n",
    "        \"Display_height\": 1024,\n",
    "        \"aoi\": [0, 0, 1280, 1024]\n",
    "    }\n",
    "}\n",
    "\n",
    "# Creating Stimulus object. See the documentation for advanced parameters.\n",
    "stim = Stimulus(path=os.path.abspath(\"../PyTrack_Sample_Data/SMI\"),\n",
    "               data=df,\n",
    "               sensor_names=sensor_dict)\n",
    "\n",
    "# Some functionality usage. See documentation of Stimulus class for advanced use.\n",
    "stim.findEyeMetaData()\n",
    "\n",
    "# Getting dictionary of found metadata/features\n",
    "features = stim.sensors[\"EyeTracker\"].metadata  \n",
    "\n",
    "# Extracting features\n",
    "MS, ms_count, ms_duration, ms_vel, ms_amp = stim.findMicrosaccades(plot_ms=True)"
   ],
   "outputs": [],
   "metadata": {
    "tags": []
   }
  },
  {
   "cell_type": "markdown",
   "source": [
    "## Tobii"
   ],
   "metadata": {}
  },
  {
   "cell_type": "code",
   "execution_count": null,
   "source": [
    "# function to convert data to generate csv file for data file recorded using \n",
    "# EyeLink on both eyes and the stimulus name specified in the message section\n",
    "if not os.path.isfile(os.path.abspath(\"../PyTrack_Sample_Data/Tobii/tobii_sceneviewing_eyetrack_ascii.csv\")):\n",
    "    generateCompatibleFormat(exp_path=os.path.abspath(\"../PyTrack_Sample_Data/Tobii/tobii_sceneviewing_eyetrack_ascii.txt\"),\n",
    "                            device=\"tobii\",\n",
    "                            stim_list_mode=\"NA\",\n",
    "                            start=\"MYKEYWORD\",\n",
    "                            eye=\"B\")\n",
    "\n",
    "df = pd.read_csv(os.path.abspath(\"../PyTrack_Sample_Data/Tobii/tobii_sceneviewing_eyetrack_ascii.csv\"))\n",
    "print('Max gaze (height): {:.2f} - Left eye, {:.2f} - Right eye'.format(\n",
    "    df['GazeLefty'].max(), df['GazeRighty'].max()))\n",
    "print('Max gaze (width): {:.2f} - Left eye, {:.2f} - Right eye'.format(\n",
    "    df['GazeLeftx'].max(), df['GazeRightx'].max()))\n",
    "\n",
    "# Dictionary containing details of recording. Please change the values \n",
    "# according to your experiment. If no AOI is desired, set aoi value to \n",
    "# [0, 0, Display_width, Display_height]\n",
    "sensor_dict = {\n",
    "    \"EyeTracker\":\n",
    "    {\n",
    "        \"Sampling_Freq\": 300,\n",
    "        \"Display_width\": 5120,\n",
    "        \"Display_height\": 2880,\n",
    "        \"aoi\": [0, 0, 4800, 1500]\n",
    "    }\n",
    "}\n",
    "\n",
    "# Creating Stimulus object. See the documentation for advanced parameters.\n",
    "stim = Stimulus(path=os.path.abspath(\"../PyTrack_Sample_Data/Tobii\"),\n",
    "               data=df,\n",
    "               sensor_names=sensor_dict)\n",
    "\n",
    "# Some functionality usage. See documentation of Stimulus class for advanced use.\n",
    "stim.findEyeMetaData()\n",
    "\n",
    "# Getting dictionary of found metadata/features\n",
    "features = stim.sensors[\"EyeTracker\"].metadata  \n",
    "\n",
    "# Extracting features\n",
    "MS, ms_count, ms_duration, ms_vel, ms_amp = stim.findMicrosaccades(plot_ms=True)"
   ],
   "outputs": [],
   "metadata": {}
  },
  {
   "cell_type": "markdown",
   "source": [
    "## Eyelink"
   ],
   "metadata": {}
  },
  {
   "cell_type": "code",
   "execution_count": null,
   "source": [
    "# function to convert data to generate csv file for data file recorded using \n",
    "# EyeLink on both eyes and the stimulus name specified in the message section\n",
    "if not os.path.isfile(os.path.abspath(\"../PyTrack_Sample_Data/EyeLink/sub_222.csv\")):\n",
    "    generateCompatibleFormat(exp_path=os.path.abspath(\"../PyTrack_Sample_Data/EyeLink/sub_222.asc\"),\n",
    "                            device=\"eyelink\",\n",
    "                            stim_list_mode=\"NA\",\n",
    "                            start=\"start_trial\",\n",
    "                            stop=\"stop_trial\",\n",
    "                            eye=\"B\")\n",
    "\n",
    "df = pd.read_csv(os.path.abspath(\"../PyTrack_Sample_Data/EyeLink/sub_222.csv\"))\n",
    "\n",
    "print('Max gaze (height): {:.2f} - Left eye, {:.2f} - Right eye'.format(\n",
    "    df['GazeLefty'].max(), df['GazeRighty'].max()))\n",
    "print('Max gaze (width): {:.2f} - Left eye, {:.2f} - Right eye'.format(\n",
    "    df['GazeLeftx'].max(), df['GazeRightx'].max()))\n",
    "\n",
    "# Dictionary containing details of recording. Please change the values \n",
    "# according to your experiment. If no AOI is desired, set aoi value to \n",
    "# [0, 0, Display_width, Display_height]\n",
    "sensor_dict = {\n",
    "    \"EyeTracker\":\n",
    "    {\n",
    "        \"Sampling_Freq\": 2000,\n",
    "        \"Display_width\": 1920,\n",
    "        \"Display_height\": 1200,\n",
    "        \"aoi\": [0, 0, 1920, 1200]\n",
    "    }\n",
    "}\n",
    "\n",
    "# Creating Stimulus object. See the documentation for advanced parameters.\n",
    "stim = Stimulus(path=os.path.abspath(\"../PyTrack_Sample_Data/EyeLink\"),\n",
    "               data=df,\n",
    "               sensor_names=sensor_dict)\n",
    "\n",
    "# Some functionality usage. See documentation of Stimulus class for advanced use.\n",
    "stim.findEyeMetaData()\n",
    "\n",
    "# Getting dictionary of found metadata/features\n",
    "features = stim.sensors[\"EyeTracker\"].metadata  \n",
    "\n",
    "# Extracting features\n",
    "MS, ms_count, ms_duration, ms_vel, ms_amp = stim.findMicrosaccades(plot_ms=True)"
   ],
   "outputs": [],
   "metadata": {}
  },
  {
   "cell_type": "markdown",
   "source": [
    "## Visualisation of features"
   ],
   "metadata": {}
  },
  {
   "cell_type": "code",
   "execution_count": null,
   "source": [
    "# Visualization of plots\n",
    "stim.gazePlot(save_fig=True)\n",
    "stim.gazeHeatMap(save_fig=True)\n",
    "stim.visualize()"
   ],
   "outputs": [],
   "metadata": {}
  }
 ]
}