{
 "metadata": {
  "language_info": {
   "codemirror_mode": {
    "name": "ipython",
    "version": 3
   },
   "file_extension": ".py",
   "mimetype": "text/x-python",
   "name": "python",
   "nbconvert_exporter": "python",
   "pygments_lexer": "ipython3",
   "version": "3.6.8"
  },
  "orig_nbformat": 4,
  "kernelspec": {
   "name": "python3",
   "display_name": "Python 3.6.8 64-bit ('3.6.8': pyenv)"
  },
  "interpreter": {
   "hash": "9789cbeb2318af48dcddd1580358646604a4fcad901c01d62d526b58f32318a2"
  }
 },
 "nbformat": 4,
 "nbformat_minor": 2,
 "cells": [
  {
   "cell_type": "markdown",
   "source": [
    "# Using PyTrack with your own data\n",
    "\n",
    "If you do not have data from Tobii, SMI or EyeLink eyetrackers, you can use this tutorial to get started."
   ],
   "metadata": {}
  },
  {
   "cell_type": "markdown",
   "source": [
    "# Data structure\n",
    "Before starting the analysis, you need to make sure that the CSV dataframe looks\n",
    "like the following:\n",
    "\n",
    "|Timestamp|StimulusName|EventSource|GazeLeftx|GazeRightx|GazeLefty|GazeRighty|PupilLeft|PupilRight|FixationSeq|SaccadeSeq|Blink|GazeAOI|\n",
    "|---------|------------|-----------|---------|----------|---------|----------|---------|----------|-----------|----------|-----|-------|\n",
    "|9482514     |stimulus_0 |ET       |66.9      |80.6     |387.8     |386.3    |0.0       |0.0        |-1.0      |-1.0 |-1.0   |-1.0   |\n",
    "|9482515     |stimulus_0 |ET       |66.9      |80.4     |388.0     |385.6    |0.0       |0.0        |-1.0      |-1.0 |-1.0   |-1.0   |\n",
    "|9482516     |stimulus_0 |ET       |66.9      |80.3     |387.9     |384.9    |0.0       |0.0        |-1.0      |-1.0 |-1.0   |-1.0   |\n",
    "|9482517     |stimulus_0 |ET       |66.9      |80.6     |387.6     |384.2    |0.0       |0.0        |-1.0      |-1.0 |-1.0   |-1.0   |\n",
    "\n",
    "It must contain all the headers in the above table. If not, you will run into\n",
    "errors. \n",
    "For EventSource, the entire column can be replaced with \"ET\". "
   ],
   "metadata": {}
  },
  {
   "cell_type": "code",
   "execution_count": null,
   "source": [
    "from PyTrack.Stimulus import Stimulus\n",
    "import pandas as pd\n",
    "import numpy as np\n",
    "import os\n",
    "\n",
    "# Just a folder that contains the data\n",
    "# All analysis outputs will be saved inside this folder\n",
    "analysis_fold = os.path.abspath(\"PyTrack_Sample_Data/SMI\" )\n",
    "dfname = \"smi_eyetracker_freeviewing.csv\"\n",
    "dfpath = '{}/{}'.format(analysis_fold, dfname)\n",
    "\n",
    "# Read the csv file as a pandas dataframe\n",
    "df = pd.read_csv(dfpath)\n",
    "print('Max gaze (height): {:.2f} - Left eye, {:.2f} - Right eye'.format(\n",
    "    df['GazeLefty'].max(), df['GazeRighty'].max()))\n",
    "print('Max gaze (width): {:.2f} - Left eye, {:.2f} - Right eye'.format(\n",
    "    df['GazeLeftx'].max(), df['GazeRightx'].max()))\n",
    "\n",
    "# Dictionary containing details of recording. Please change the values \n",
    "# according to your experiment. If no AOI is desired, set aoi value to \n",
    "# [0, 0, Display_width, Display_height]\n",
    "# Only the information mentioned in this dictionary is needed, no\n",
    "# additional information is needed. \n",
    "sensor_dict = {\n",
    "    \"EyeTracker\":\n",
    "    {\n",
    "        \"Sampling_Freq\": 1000,\n",
    "        \"Display_width\": 5120,\n",
    "        \"Display_height\": 2880,\n",
    "        \"aoi\": [0, 0, 4800, 1500]\n",
    "    }\n",
    "}\n",
    "\n",
    "# Creating Stimulus object (See the documentation for advanced parameters).\n",
    "stim = Stimulus(path=analysis_fold,\n",
    "               data=df,\n",
    "               sensor_names=sensor_dict)\n",
    "\n",
    "# Some functionality usage (See documentation of Stimulus class for advanced use).\n",
    "stim.findEyeMetaData()\n",
    "\n",
    "# Getting dictionary of found metadata/features\n",
    "features = stim.sensors[\"EyeTracker\"].metadata \n",
    "print(features.keys()) \n",
    "\n",
    "# The keys of the features dictionary contain all the features\n",
    "# extracted. To get the feature itself, use this command:\n",
    "# f = features[key]\n",
    "\n",
    "# Extracting microsaccade features. This will also generate microsaccade\n",
    "# plots and store them inside the analysis folder\n",
    "MS, ms_count, ms_duration, ms_vel, ms_amp = stim.findMicrosaccades(plot_ms=True)"
   ],
   "outputs": [],
   "metadata": {}
  },
  {
   "cell_type": "markdown",
   "source": [
    "## Visualisation of features"
   ],
   "metadata": {}
  },
  {
   "cell_type": "code",
   "execution_count": null,
   "source": [
    "# Visualization of plots\n",
    "stim.gazePlot(save_fig=True)\n",
    "stim.gazeHeatMap(save_fig=True)\n",
    "stim.visualize()"
   ],
   "outputs": [],
   "metadata": {}
  }
 ]
}